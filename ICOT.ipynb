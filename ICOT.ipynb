{
 "cells": [
  {
   "cell_type": "code",
   "execution_count": 1,
   "metadata": {},
   "outputs": [],
   "source": [
    "using DataFrames, MLDataUtils\n",
    "using Clustering, Distances\n",
    "using CSV\n",
    "using Random\n",
    "using Logging\n",
    "using Printf\n",
    "\n",
    "\n",
    "# Set up Logging - we recommend to use this command to avoid package warnings during the model training process.\n",
    "logger = Logging.SimpleLogger(stderr, Logging.Warn);\n",
    "global_logger(logger);\n"
   ]
  },
  {
   "cell_type": "code",
   "execution_count": 2,
   "metadata": {},
   "outputs": [],
   "source": [
    "#### Set parameters for the learners\n",
    "cr = :silhouette # VALIDATION criterion totrain ICOT\n",
    "method = \"ICOT_local\"\n",
    "warm_start = :oct; \n",
    "# in the paper,  awarmstart slution to intilazation algorithm, oct use kmeas labels as \n",
    "# as a uspervised algorithm. greedy option fits a cart tree to lebels? try? or not good as kmenas\n",
    "geom_search = false \n",
    "# s a boolean parameter that controls where the algorithm will enable the geometric component of the feature space search. See details in Section 3.3.1 of the paper.\n",
    "threshold = 0.99 # the percentile of gaps for each \n",
    "seed = 1\n",
    "gridsearch = false\n",
    "num_tree_restarts = 10\n",
    "# is an integer specifying the number of random restarts to use in the local search algorithm. Must be positive and defaults to 100. The performance of the tree typically increases as this value is increased, but with quickly diminishing returns. The computational cost of training increases linearly with this value.\n",
    "complexity_c = 0.0\n",
    "min_bucket = 100\n",
    "\n",
    "\n",
    "###### Step 1: Prepare the data\n",
    "# Read the data - recommend the use of the (deprecated) readtable() command to avoid potential version conflicts with the CSV package.\n",
    "dataset = CSV.File(\"/Users/rui/PycharmProjects/cluster_explain/dataset_noScaler.csv\"); \n",
    "# println(dataset[1, :])\n"
   ]
  },
  {
   "cell_type": "code",
   "execution_count": 3,
   "metadata": {},
   "outputs": [
    {
     "data": {
      "text/html": [
       "<table class=\"data-frame\"><thead><tr><th></th><th>android/content/Context;getSystemService</th><th>java/net/URL;openConnection</th><th>android/os/PowerManager$WakeLock;release</th></tr><tr><th></th><th>Int64</th><th>Int64</th><th>Int64</th></tr></thead><tbody><p>5,460 rows × 211 columns (omitted printing of 208 columns)</p><tr><th>1</th><td>13</td><td>1</td><td>0</td></tr><tr><th>2</th><td>13</td><td>1</td><td>0</td></tr><tr><th>3</th><td>13</td><td>1</td><td>0</td></tr><tr><th>4</th><td>13</td><td>1</td><td>0</td></tr><tr><th>5</th><td>13</td><td>1</td><td>0</td></tr><tr><th>6</th><td>13</td><td>1</td><td>0</td></tr><tr><th>7</th><td>13</td><td>1</td><td>0</td></tr><tr><th>8</th><td>14</td><td>3</td><td>0</td></tr><tr><th>9</th><td>14</td><td>3</td><td>0</td></tr><tr><th>10</th><td>14</td><td>3</td><td>0</td></tr><tr><th>11</th><td>13</td><td>1</td><td>0</td></tr><tr><th>12</th><td>13</td><td>1</td><td>0</td></tr><tr><th>13</th><td>13</td><td>1</td><td>0</td></tr><tr><th>14</th><td>13</td><td>1</td><td>0</td></tr><tr><th>15</th><td>13</td><td>1</td><td>0</td></tr><tr><th>16</th><td>13</td><td>1</td><td>0</td></tr><tr><th>17</th><td>13</td><td>1</td><td>0</td></tr><tr><th>18</th><td>13</td><td>1</td><td>0</td></tr><tr><th>19</th><td>13</td><td>1</td><td>0</td></tr><tr><th>20</th><td>13</td><td>1</td><td>0</td></tr><tr><th>21</th><td>13</td><td>1</td><td>0</td></tr><tr><th>22</th><td>14</td><td>3</td><td>0</td></tr><tr><th>23</th><td>14</td><td>3</td><td>0</td></tr><tr><th>24</th><td>13</td><td>1</td><td>0</td></tr><tr><th>25</th><td>15</td><td>13</td><td>0</td></tr><tr><th>26</th><td>13</td><td>3</td><td>0</td></tr><tr><th>27</th><td>14</td><td>3</td><td>0</td></tr><tr><th>28</th><td>14</td><td>3</td><td>0</td></tr><tr><th>29</th><td>14</td><td>1</td><td>0</td></tr><tr><th>30</th><td>14</td><td>1</td><td>0</td></tr><tr><th>&vellip;</th><td>&vellip;</td><td>&vellip;</td><td>&vellip;</td></tr></tbody></table>"
      ],
      "text/plain": [
       "5460×211 DataFrame. Omitted printing of 210 columns\n",
       "│ Row  │ android/content/Context;getSystemService │\n",
       "│      │ \u001b[90mInt64\u001b[39m                                    │\n",
       "├──────┼──────────────────────────────────────────┤\n",
       "│ 1    │ 13                                       │\n",
       "│ 2    │ 13                                       │\n",
       "│ 3    │ 13                                       │\n",
       "│ 4    │ 13                                       │\n",
       "│ 5    │ 13                                       │\n",
       "│ 6    │ 13                                       │\n",
       "│ 7    │ 13                                       │\n",
       "│ 8    │ 14                                       │\n",
       "│ 9    │ 14                                       │\n",
       "│ 10   │ 14                                       │\n",
       "⋮\n",
       "│ 5450 │ 29                                       │\n",
       "│ 5451 │ 26                                       │\n",
       "│ 5452 │ 28                                       │\n",
       "│ 5453 │ 43                                       │\n",
       "│ 5454 │ 29                                       │\n",
       "│ 5455 │ 26                                       │\n",
       "│ 5456 │ 34                                       │\n",
       "│ 5457 │ 31                                       │\n",
       "│ 5458 │ 30                                       │\n",
       "│ 5459 │ 39                                       │\n",
       "│ 5460 │ 30                                       │"
      ]
     },
     "execution_count": 3,
     "metadata": {},
     "output_type": "execute_result"
    }
   ],
   "source": [
    "# data_x = select(dataset, Not(:label))\n",
    "# data\n",
    "#seperate x and y\n",
    "dataset_df = DataFrame(dataset)\n",
    "true_label = dataset[:, end]\n",
    "data_x = dataset[:, 1:end-1]\n",
    "\n",
    "# train model \n",
    "\n",
    "data_array = convert(Matrix{Float64}, data_x);\n",
    "# Get the number of observations and features\n",
    "n, p = size(data_array)\n",
    "data_t = data_array';\n",
    "\n",
    "##### Step 2: Fit K-means clustering on the dataset to generate a warm-start for ICOT\n",
    "#Fix the seed\n",
    "Random.seed!(seed);\n",
    "\n",
    "# The ruspini dataset has pre-defined clusters, which we will use to select the cluster count (K) for the K-means algorithm. \n",
    "# In an unsupervised setting (with no prior-known K), the number of clusters for K means can be selected using the elbow method.\n",
    "K = 10\n",
    "\n",
    "# Run k-means and save the assignments \n",
    "kmeans_result = kmeans(data_t, K);\n",
    "assignment = kmeans_result.assignments;\n",
    "\n",
    "# concat data and feed into next model\n",
    "data_full = DataFrame(hcat(dataset_df, assignment, makeunique=true));\n",
    "\n",
    "#rename column\n",
    "if !hasproperty(data_full, :true_labels)\n",
    "    rename!(data_full, :label => :true_labels)\n",
    "end\n",
    "\n",
    "if !hasproperty(data_full, :kmean_assign)\n",
    "    rename!(data_full, :x1 => :kmean_assign)\n",
    "else\n",
    "    println(\"all done\")\n",
    "end"
   ]
  },
  {
   "cell_type": "code",
   "execution_count": 4,
   "metadata": {},
   "outputs": [
    {
     "name": "stderr",
     "output_type": "stream",
     "text": [
      "┌ Warning: implicit `dims=2` argument now has to be passed explicitly to specify that distances between columns should be computed\n",
      "│   caller = ip:0x0\n",
      "└ @ Core :-1\n",
      "┌ Warning: This copy of Interpretable AI software is for academic purposes only and not for commercial use.\n",
      "└ @ IAIBase /Users/iai/.julia/packages/IAIBase/pOrUV/src/precompile.jl:19\n",
      "\u001b[32mTraining trees...100%|██████████████████████████████████| Time: 0:00:58\u001b[39m\n",
      "\u001b[32mTraining trees...100%|██████████████████████████████████| Time: 0:01:29\u001b[39m\n",
      "┌ Warning: `getindex(df::DataFrame, col_ind::ColumnIndex)` is deprecated, use `df[!, col_ind]` instead.\n",
      "│   caller = dunn_score(::Array{Float64,2}, ::Array{Int64,1}) at clustering_tree.jl:132\n",
      "└ @ ICOT /Users/iai/.julia/packages/ICOT/34UmY/src/clustering/clustering_tree.jl:132\n",
      "\u001b[32mTraining trees...100%|██████████████████████████████████| Time: 0:00:48\u001b[39m\n",
      "\u001b[32mTraining trees...100%|██████████████████████████████████| Time: 0:01:15\u001b[39m\n",
      "\u001b[32mTraining trees...100%|██████████████████████████████████| Time: 0:00:47\u001b[39m\n",
      "\u001b[32mTraining trees...100%|██████████████████████████████████| Time: 0:01:14\u001b[39m\n",
      "\u001b[32mTraining trees...100%|██████████████████████████████████| Time: 0:00:46\u001b[39m\n",
      "\u001b[32mTraining trees...100%|██████████████████████████████████| Time: 0:01:18\u001b[39m\n",
      "\u001b[32mTraining trees...100%|██████████████████████████████████| Time: 0:00:51\u001b[39m\n",
      "\u001b[32mTraining trees...100%|██████████████████████████████████| Time: 0:01:19\u001b[39m\n",
      "\u001b[32mTraining trees...100%|██████████████████████████████████| Time: 0:00:51\u001b[39m\n",
      "\u001b[32mTraining trees...100%|██████████████████████████████████| Time: 0:01:15\u001b[39m\n",
      "\u001b[32mTraining trees...100%|██████████████████████████████████| Time: 0:00:49\u001b[39m\n",
      "\u001b[32mTraining trees...100%|██████████████████████████████████| Time: 0:01:30\u001b[39m\n",
      "\u001b[32mTraining trees...100%|██████████████████████████████████| Time: 0:01:04\u001b[39m\n",
      "\u001b[32mTraining trees...100%|██████████████████████████████████| Time: 0:01:42\u001b[39m\n",
      "\u001b[32mTraining trees...100%|██████████████████████████████████| Time: 0:01:01\u001b[39m\n",
      "\u001b[32mTraining trees...100%|██████████████████████████████████| Time: 0:01:38\u001b[39m\n",
      "\u001b[32mTraining trees...100%|██████████████████████████████████| Time: 0:01:04\u001b[39m\n",
      "\u001b[32mTraining trees...100%|██████████████████████████████████| Time: 0:01:37\u001b[39m\n",
      "\u001b[32mTraining trees...100%|██████████████████████████████████| Time: 8:59:13\u001b[39m\n"
     ]
    },
    {
     "name": "stdout",
     "output_type": "stream",
     "text": [
      "dunnindex = 0.0822\n",
      "silhouette = 0.5408\n",
      "10411.731811 seconds (595.62 M allocations: 402.287 GiB, 1.87% gc time)\n"
     ]
    }
   ],
   "source": [
    "# Prepare data for ICOT: features are \n",
    "# stored in the matrix X, and the warm-start labels are stored in y\n",
    "X = data_full[:, 1:end-2];\n",
    "y = data_full[:, :true_labels];\n",
    "\n",
    "\n",
    "maxdepth = 7# can change ! use grid search for tuning!\n",
    "\n",
    "\n",
    "# Run ICOT with an OCT warm-start: fit an OCT as a supervised learning problem with labels \"y\" and use this as the warm-start\n",
    "# function icot(maxdepth)\n",
    "@time begin\n",
    "warm_start = :oct\n",
    "lnr_ws_oct = ICOT.InterpretableCluster(ls_num_tree_restarts=num_tree_restarts, ls_random_seed=seed, cp=complexity_c, max_depth=maxdepth,\n",
    "    minbucket=min_bucket, criterion=cr, ls_warmstart_criterion=cr, kmeans_warmstart=warm_start,\n",
    "    geom_search=geom_search, geom_threshold=threshold)\n",
    "run_time_icot_ls_oct = @elapsed ICOT.fit!(lnr_ws_oct, X, y)\n",
    "\n",
    "score_ws_oct = ICOT.score(lnr_ws_oct, X, y, criterion=:dunnindex)\n",
    "score_al_ws_oct = ICOT.score(lnr_ws_oct, X, y, criterion=:silhouette)\n",
    "ICOT.showinbrowser(lnr_ws_oct)\n",
    "\n",
    "@printf(\"dunnindex = %.4f\\n\", float(score_ws_oct))\n",
    "@printf(\"silhouette = %.4f\\n\", float(score_al_ws_oct))\n",
    "\n",
    "end\n",
    "# end\n"
   ]
  },
  {
   "cell_type": "code",
   "execution_count": 8,
   "metadata": {},
   "outputs": [
    {
     "ename": "UndefVarError",
     "evalue": "\u001b[91mUndefVarError: grid not defined\u001b[39m",
     "traceback": [
      "\u001b[91mUndefVarError: grid not defined\u001b[39m",
      "",
      "Stacktrace:",
      " [1] top-level scope at In[8]:1"
     ],
     "output_type": "error"
    }
   ],
   "source": [
    "\n",
    "ICOT.IAI.showinbrowser(grid.lnr)"
   ]
  },
  {
   "cell_type": "code",
   "execution_count": 9,
   "metadata": {},
   "outputs": [
    {
     "name": "stderr",
     "output_type": "stream",
     "text": [
      "\u001b[32mTraining trees...100%|██████████████████████████████████| Time: 0:00:41\u001b[39m\n",
      "\u001b[32mTraining trees...100%|██████████████████████████████████| Time: 0:01:00\u001b[39m\n",
      "\u001b[32mTraining trees...100%|██████████████████████████████████| Time: 0:00:40\u001b[39m\n",
      "\u001b[32mTraining trees...100%|██████████████████████████████████| Time: 0:00:55\u001b[39m\n",
      "\u001b[32mTraining trees...100%|██████████████████████████████████| Time: 0:00:42\u001b[39m\n",
      "\u001b[32mTraining trees...100%|██████████████████████████████████| Time: 0:01:01\u001b[39m\n",
      "\u001b[32mTraining trees...100%|██████████████████████████████████| Time: 0:00:30\u001b[39m\n",
      "\u001b[32mTraining trees...100%|██████████████████████████████████| Time: 0:00:47\u001b[39m\n",
      "\u001b[32mTraining trees...100%|██████████████████████████████████| Time: 0:00:31\u001b[39m\n",
      "\u001b[32mTraining trees...100%|██████████████████████████████████| Time: 0:00:48\u001b[39m\n",
      "\u001b[32mTraining trees...100%|██████████████████████████████████| Time: 0:00:33\u001b[39m\n",
      "\u001b[32mTraining trees...100%|██████████████████████████████████| Time: 0:00:47\u001b[39m\n",
      "\u001b[32mTraining trees...100%|██████████████████████████████████| Time: 0:00:32\u001b[39m\n",
      "\u001b[32mTraining trees...100%|██████████████████████████████████| Time: 0:00:43\u001b[39m\n",
      "\u001b[32mTraining trees...100%|██████████████████████████████████| Time: 0:00:32\u001b[39m\n",
      "\u001b[32mTraining trees...100%|██████████████████████████████████| Time: 0:00:48\u001b[39m\n",
      "\u001b[32mTraining trees...100%|██████████████████████████████████| Time: 0:00:30\u001b[39m\n",
      "\u001b[32mTraining trees...100%|██████████████████████████████████| Time: 0:00:45\u001b[39m\n",
      "\u001b[32mTraining trees...100%|██████████████████████████████████| Time: 0:00:29\u001b[39m\n",
      "\u001b[32mTraining trees...100%|██████████████████████████████████| Time: 0:00:42\u001b[39m\n",
      "\u001b[32mTraining trees...100%|██████████████████████████████████| Time: 1:18:45\u001b[39m\n"
     ]
    },
    {
     "name": "stdout",
     "output_type": "stream",
     "text": [
      "dunnindex = 0.1950\n",
      "silhouette = 0.4681\n",
      "4742.371241 seconds (252.61 M allocations: 170.976 GiB, 1.37% gc time)\n"
     ]
    }
   ],
   "source": [
    "# Prepare data for ICOT: features are \n",
    "# stored in the matrix X, and the warm-start labels are stored in y\n",
    "X = data_full[:, 1:end-2];\n",
    "y = data_full[:, :true_labels];\n",
    "\n",
    "\n",
    "maxdepth = 4 # can change ! use grid search for tuning!\n",
    "\n",
    "\n",
    "# Run ICOT with an OCT warm-start: fit an OCT as a supervised learning problem with labels \"y\" and use this as the warm-start\n",
    "# function icot(maxdepth)\n",
    "@time begin\n",
    "warm_start = :oct\n",
    "lnr_ws_oct = ICOT.InterpretableCluster(ls_num_tree_restarts=num_tree_restarts, ls_random_seed=seed, cp=complexity_c, max_depth=maxdepth,\n",
    "    minbucket=min_bucket, criterion=cr, ls_warmstart_criterion=cr, kmeans_warmstart=warm_start,\n",
    "    geom_search=geom_search, geom_threshold=threshold)\n",
    "run_time_icot_ls_oct = @elapsed ICOT.fit!(lnr_ws_oct, X, y)\n",
    "\n",
    "score_ws_oct = ICOT.score(lnr_ws_oct, X, y, criterion=:dunnindex)\n",
    "score_al_ws_oct = ICOT.score(lnr_ws_oct, X, y, criterion=:silhouette)\n",
    "ICOT.showinbrowser(lnr_ws_oct)\n",
    "\n",
    "@printf(\"dunnindex = %.4f\\n\", float(score_ws_oct))\n",
    "@printf(\"silhouette = %.4f\\n\", float(score_al_ws_oct))\n",
    "\n",
    "end\n",
    "# end\n"
   ]
  },
  {
   "cell_type": "code",
   "execution_count": 10,
   "metadata": {},
   "outputs": [
    {
     "name": "stderr",
     "output_type": "stream",
     "text": [
      "\u001b[32mTraining trees...100%|██████████████████████████████████| Time: 0:00:36\u001b[39m\n",
      "\u001b[32mTraining trees...100%|██████████████████████████████████| Time: 0:00:54\u001b[39m\n",
      "\u001b[32mTraining trees...100%|██████████████████████████████████| Time: 0:00:37\u001b[39m\n",
      "\u001b[32mTraining trees...100%|██████████████████████████████████| Time: 0:00:57\u001b[39m\n",
      "\u001b[32mTraining trees...100%|██████████████████████████████████| Time: 0:00:35\u001b[39m\n",
      "\u001b[32mTraining trees...100%|██████████████████████████████████| Time: 0:00:55\u001b[39m\n",
      "\u001b[32mTraining trees...100%|██████████████████████████████████| Time: 0:00:35\u001b[39m\n",
      "\u001b[32mTraining trees...100%|██████████████████████████████████| Time: 0:01:00\u001b[39m\n",
      "\u001b[32mTraining trees...100%|██████████████████████████████████| Time: 0:00:37\u001b[39m\n",
      "\u001b[32mTraining trees...100%|██████████████████████████████████| Time: 0:01:01\u001b[39m\n",
      "\u001b[32mTraining trees...100%|██████████████████████████████████| Time: 0:00:50\u001b[39m\n",
      "\u001b[32mTraining trees...100%|██████████████████████████████████| Time: 0:01:21\u001b[39m\n",
      "\u001b[32mTraining trees...100%|██████████████████████████████████| Time: 0:00:53\u001b[39m\n",
      "\u001b[32mTraining trees...100%|██████████████████████████████████| Time: 0:01:20\u001b[39m\n",
      "\u001b[32mTraining trees...100%|██████████████████████████████████| Time: 0:00:53\u001b[39m\n",
      "\u001b[32mTraining trees...100%|██████████████████████████████████| Time: 0:01:18\u001b[39m\n",
      "\u001b[32mTraining trees...100%|██████████████████████████████████| Time: 0:00:51\u001b[39m\n",
      "\u001b[32mTraining trees...100%|██████████████████████████████████| Time: 0:01:15\u001b[39m\n",
      "\u001b[32mTraining trees...100%|██████████████████████████████████| Time: 0:00:50\u001b[39m\n",
      "\u001b[32mTraining trees...100%|██████████████████████████████████| Time: 0:01:18\u001b[39m\n",
      "\u001b[32mTraining trees...100%|██████████████████████████████████| Time: 1:47:27\u001b[39m\n"
     ]
    },
    {
     "name": "stdout",
     "output_type": "stream",
     "text": [
      "dunnindex = 0.0103\n",
      "silhouette = 0.5058\n",
      "6468.486663 seconds (336.30 M allocations: 246.866 GiB, 0.78% gc time)\n"
     ]
    }
   ],
   "source": [
    "# Prepare data for ICOT: features are \n",
    "# stored in the matrix X, and the warm-start labels are stored in y\n",
    "X = data_full[:, 1:end-2];\n",
    "y = data_full[:, :true_labels];\n",
    "\n",
    "\n",
    "maxdepth = 5 # can change ! use grid search for tuning!\n",
    "\n",
    "\n",
    "# Run ICOT with an OCT warm-start: fit an OCT as a supervised learning problem with labels \"y\" and use this as the warm-start\n",
    "# function icot(maxdepth)\n",
    "@time begin\n",
    "warm_start = :oct\n",
    "lnr_ws_oct = ICOT.InterpretableCluster(ls_num_tree_restarts=num_tree_restarts, ls_random_seed=seed, cp=complexity_c, max_depth=maxdepth,\n",
    "    minbucket=min_bucket, criterion=cr, ls_warmstart_criterion=cr, kmeans_warmstart=warm_start,\n",
    "    geom_search=geom_search, geom_threshold=threshold)\n",
    "run_time_icot_ls_oct = @elapsed ICOT.fit!(lnr_ws_oct, X, y)\n",
    "\n",
    "score_ws_oct = ICOT.score(lnr_ws_oct, X, y, criterion=:dunnindex)\n",
    "score_al_ws_oct = ICOT.score(lnr_ws_oct, X, y, criterion=:silhouette)\n",
    "ICOT.showinbrowser(lnr_ws_oct)\n",
    "\n",
    "@printf(\"dunnindex = %.4f\\n\", float(score_ws_oct))\n",
    "@printf(\"silhouette = %.4f\\n\", float(score_al_ws_oct))\n",
    "\n",
    "end\n",
    "# end"
   ]
  },
  {
   "cell_type": "code",
   "execution_count": null,
   "metadata": {},
   "outputs": [],
   "source": []
  },
  {
   "cell_type": "code",
   "execution_count": null,
   "metadata": {},
   "outputs": [],
   "source": []
  }
 ],
 "metadata": {
  "kernelspec": {
   "display_name": "Julia (IAI) 1.1.0",
   "language": "julia",
   "name": "julia-_iai_-1.1"
  },
  "language_info": {
   "file_extension": ".jl",
   "mimetype": "application/julia",
   "name": "julia",
   "version": "1.1.0"
  }
 },
 "nbformat": 4,
 "nbformat_minor": 2
}
